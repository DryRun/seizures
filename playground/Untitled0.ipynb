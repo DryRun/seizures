{
 "metadata": {
  "name": "",
  "signature": "sha256:ce02fadd01b9cd302953f03b4efadfd032fea99efad433deebae1bb30fe351c2"
 },
 "nbformat": 3,
 "nbformat_minor": 0,
 "worksheets": [
  {
   "cells": [
    {
     "cell_type": "code",
     "collapsed": false,
     "input": [
      "import os\n",
      "import sys\n",
      "import numpy\n",
      "import scipy as sp\n",
      "import scipy.io\n"
     ],
     "language": "python",
     "metadata": {},
     "outputs": [],
     "prompt_number": 6
    },
    {
     "cell_type": "code",
     "collapsed": false,
     "input": [
      "# Load data\n",
      "data = sp.io.loadmat('../data/sample_clip.mat')"
     ],
     "language": "python",
     "metadata": {},
     "outputs": [],
     "prompt_number": 28
    },
    {
     "cell_type": "code",
     "collapsed": false,
     "input": [
      "# What does the data look like?\n",
      "print data.keys()\n",
      "print \"Data shape: \" + str(data[\"data\"].shape)\n",
      "# 6400 rows\n",
      "# 400 columns\n",
      "# Row x column = electrode x time\n",
      "data[\"channels\"]"
     ],
     "language": "python",
     "metadata": {},
     "outputs": [
      {
       "output_type": "stream",
       "stream": "stdout",
       "text": [
        "['latency', '__header__', '__globals__', 'channels', 'freq', '__version__', 'data']\n",
        "Data shape: (16, 400)\n"
       ]
      },
      {
       "metadata": {},
       "output_type": "pyout",
       "prompt_number": 32,
       "text": [
        "array([[ ([u'NVC0905_22_002_Ecog_c001'], [u'NVC0905_22_002_Ecog_c002'], [u'NVC0905_22_002_Ecog_c003'], [u'NVC0905_22_002_Ecog_c004'], [u'NVC0905_22_002_Ecog_c005'], [u'NVC0905_22_002_Ecog_c006'], [u'NVC0905_22_002_Ecog_c007'], [u'NVC0905_22_002_Ecog_c008'], [u'NVC0905_22_002_Ecog_c009'], [u'NVC0905_22_002_Ecog_c010'], [u'NVC0905_22_002_Ecog_c011'], [u'NVC0905_22_002_Ecog_c012'], [u'NVC0905_22_002_Ecog_c013'], [u'NVC0905_22_002_Ecog_c014'], [u'NVC0905_22_002_Ecog_c015'], [u'NVC0905_22_002_Ecog_c016'])]], \n",
        "      dtype=[('X.NVC0905_22_002_Ecog_c001.', 'O'), ('X.NVC0905_22_002_Ecog_c002.', 'O'), ('X.NVC0905_22_002_Ecog_c003.', 'O'), ('X.NVC0905_22_002_Ecog_c004.', 'O'), ('X.NVC0905_22_002_Ecog_c005.', 'O'), ('X.NVC0905_22_002_Ecog_c006.', 'O'), ('X.NVC0905_22_002_Ecog_c007.', 'O'), ('X.NVC0905_22_002_Ecog_c008.', 'O'), ('X.NVC0905_22_002_Ecog_c009.', 'O'), ('X.NVC0905_22_002_Ecog_c010.', 'O'), ('X.NVC0905_22_002_Ecog_c011.', 'O'), ('X.NVC0905_22_002_Ecog_c012.', 'O'), ('X.NVC0905_22_002_Ecog_c013.', 'O'), ('X.NVC0905_22_002_Ecog_c014.', 'O'), ('X.NVC0905_22_002_Ecog_c015.', 'O'), ('X.NVC0905_22_002_Ecog_c016.', 'O')])"
       ]
      }
     ],
     "prompt_number": 32
    },
    {
     "cell_type": "code",
     "collapsed": false,
     "input": [],
     "language": "python",
     "metadata": {},
     "outputs": []
    }
   ],
   "metadata": {}
  }
 ]
}